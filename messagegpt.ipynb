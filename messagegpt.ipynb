{
  "nbformat": 4,
  "nbformat_minor": 0,
  "metadata": {
    "colab": {
      "provenance": [],
      "mount_file_id": "11dH8Ryr4yThrJOPCJQKYN5r8zElEwAoW",
      "authorship_tag": "ABX9TyOsPENOuX7qRVxyfWUb4iFx",
      "include_colab_link": true
    },
    "kernelspec": {
      "name": "python3",
      "display_name": "Python 3"
    },
    "language_info": {
      "name": "python"
    }
  },
  "cells": [
    {
      "cell_type": "markdown",
      "metadata": {
        "id": "view-in-github",
        "colab_type": "text"
      },
      "source": [
        "<a href=\"https://colab.research.google.com/github/Kira1108/gpt_sms/blob/main/messagegpt.ipynb\" target=\"_parent\"><img src=\"https://colab.research.google.com/assets/colab-badge.svg\" alt=\"Open In Colab\"/></a>"
      ]
    },
    {
      "cell_type": "markdown",
      "source": [
        "## 配置相关信息"
      ],
      "metadata": {
        "id": "NP1QPS-f6P_V"
      }
    },
    {
      "cell_type": "code",
      "source": [
        "import os\n",
        "os.environ['OPENAI_API_KEY'] = \n",
        "DB_NAME = \"ng_message_ai.db\"\n",
        "raw_data_path = \"/content/drive/MyDrive/AI/MessageGPT/data/ng_phone_msg_concat.fth\"\n",
        "os.environ['SQLITE_URI'] = f\"sqlite:////content/drive/MyDrive/AI/MessageGPT/databases/{DB_NAME}\""
      ],
      "metadata": {
        "id": "PjHQn6F7yIEE"
      },
      "execution_count": 1,
      "outputs": []
    },
    {
      "cell_type": "code",
      "execution_count": 2,
      "metadata": {
        "id": "1YTGBZZp2E1V"
      },
      "outputs": [],
      "source": [
        "!git clone https://github.com/Kira1108/gpt_sms.git\n",
        "!cp -r gpt_sms/* .\n",
        "\n",
        "from IPython.display import clear_output\n",
        "!pip install -r requirements.txt\n",
        "clear_output()"
      ]
    },
    {
      "cell_type": "markdown",
      "source": [
        "## 准备数据"
      ],
      "metadata": {
        "id": "CUTXeSJa6W8t"
      }
    },
    {
      "cell_type": "code",
      "source": [
        "!python data_main.py --help"
      ],
      "metadata": {
        "colab": {
          "base_uri": "https://localhost:8080/"
        },
        "id": "_rxZmk2V4RIz",
        "outputId": "049baa1a-3057-456d-cb67-44f1b6882994"
      },
      "execution_count": 3,
      "outputs": [
        {
          "output_type": "stream",
          "name": "stdout",
          "text": [
            "\u001b[1m                                                                                \u001b[0m\n",
            "\u001b[1m \u001b[0m\u001b[1;33mUsage: \u001b[0m\u001b[1mdata_main.py [OPTIONS] PATH\u001b[0m\u001b[1m                                            \u001b[0m\u001b[1m \u001b[0m\n",
            "\u001b[1m                                                                                \u001b[0m\n",
            " Read raw datafile into sqlite database, either csv or feather. fmt: file       \n",
            " format, csv or feather path: path to the file                                  \n",
            "                                                                                \n",
            "\u001b[2m╭─\u001b[0m\u001b[2m Arguments \u001b[0m\u001b[2m─────────────────────────────────────────────────────────────────\u001b[0m\u001b[2m─╮\u001b[0m\n",
            "\u001b[2m│\u001b[0m \u001b[31m*\u001b[0m    path      \u001b[1;33mTEXT\u001b[0m  \u001b[2m[default: None]\u001b[0m \u001b[2;31m[required]\u001b[0m                              \u001b[2m│\u001b[0m\n",
            "\u001b[2m╰──────────────────────────────────────────────────────────────────────────────╯\u001b[0m\n",
            "\u001b[2m╭─\u001b[0m\u001b[2m Options \u001b[0m\u001b[2m───────────────────────────────────────────────────────────────────\u001b[0m\u001b[2m─╮\u001b[0m\n",
            "\u001b[2m│\u001b[0m \u001b[1;36m-\u001b[0m\u001b[1;36m-fmt\u001b[0m                        \u001b[1;33mTEXT\u001b[0m  \u001b[2m[default: csv]\u001b[0m                            \u001b[2m│\u001b[0m\n",
            "\u001b[2m│\u001b[0m \u001b[1;36m-\u001b[0m\u001b[1;36m-replace\u001b[0m    \u001b[1;35m-\u001b[0m\u001b[1;35m-no\u001b[0m\u001b[1;35m-replace\u001b[0m    \u001b[1;33m    \u001b[0m  \u001b[2m[default: no-replace]\u001b[0m                     \u001b[2m│\u001b[0m\n",
            "\u001b[2m│\u001b[0m \u001b[1;36m-\u001b[0m\u001b[1;36m-help\u001b[0m                       \u001b[1;33m    \u001b[0m  Show this message and exit.               \u001b[2m│\u001b[0m\n",
            "\u001b[2m╰──────────────────────────────────────────────────────────────────────────────╯\u001b[0m\n",
            "\n"
          ]
        }
      ]
    },
    {
      "cell_type": "markdown",
      "source": [
        "**确定需要重跑的时候，才执行数据流程**"
      ],
      "metadata": {
        "id": "g0bTI1jq_7WY"
      }
    },
    {
      "cell_type": "code",
      "source": [
        "# !python data_main.py --fmt feather --replace {raw_data_path}"
      ],
      "metadata": {
        "colab": {
          "base_uri": "https://localhost:8080/"
        },
        "id": "I5zclb8I3bwp",
        "outputId": "980764f8-a85b-4af2-b422-7f4a0cdf3459"
      },
      "execution_count": 4,
      "outputs": [
        {
          "output_type": "stream",
          "name": "stdout",
          "text": [
            "INFO:Data:Reading feather file /content/drive/MyDrive/AI/MessageGPT/data/ng_phone_msg_concat.fth.\n",
            "INFO:Data:Writing to database.\n",
            "Are you sure you want to replace the database? (y/n)y\n",
            "INFO:Data:Replacing database.\n",
            "INFO:Data:Done~~!\n"
          ]
        }
      ]
    },
    {
      "cell_type": "code",
      "source": [
        "import sqlite3\n",
        "import pandas as pd\n",
        "\n",
        "with sqlite3.connect(os.getenv(\"SQLITE_URI\")[10:]) as conn:\n",
        "    df = pd.read_sql_query(\"select * from messages\", conn)\n",
        "print(f\"Number of Records: {df.shape[0]}\")\n",
        "# df.head(5)"
      ],
      "metadata": {
        "colab": {
          "base_uri": "https://localhost:8080/"
        },
        "id": "B8tU9_ipzHxl",
        "outputId": "d4a87db7-0df2-4543-88a4-a58d16a8dedd"
      },
      "execution_count": 13,
      "outputs": [
        {
          "output_type": "stream",
          "name": "stdout",
          "text": [
            "Number of Records: 29918\n"
          ]
        }
      ]
    },
    {
      "cell_type": "markdown",
      "source": [
        "## 解析数据"
      ],
      "metadata": {
        "id": "dXQ2XLD56az0"
      }
    },
    {
      "cell_type": "code",
      "source": [
        "!python ai_main.py --help"
      ],
      "metadata": {
        "colab": {
          "base_uri": "https://localhost:8080/"
        },
        "id": "Q6VgZ2DC_scr",
        "outputId": "472a0d8e-22ad-4f25-fa51-bac884b5fb7c"
      },
      "execution_count": 6,
      "outputs": [
        {
          "output_type": "stream",
          "name": "stdout",
          "text": [
            "\u001b[1m                                                                                \u001b[0m\n",
            "\u001b[1m \u001b[0m\u001b[1;33mUsage: \u001b[0m\u001b[1mai_main.py [OPTIONS]\u001b[0m\u001b[1m                                                   \u001b[0m\u001b[1m \u001b[0m\n",
            "\u001b[1m                                                                                \u001b[0m\n",
            "\u001b[2m╭─\u001b[0m\u001b[2m Options \u001b[0m\u001b[2m───────────────────────────────────────────────────────────────────\u001b[0m\u001b[2m─╮\u001b[0m\n",
            "\u001b[2m│\u001b[0m \u001b[1;36m-\u001b[0m\u001b[1;36m-template\u001b[0m        \u001b[1;33mTEXT   \u001b[0m  \u001b[2m[default: keywords]\u001b[0m                               \u001b[2m│\u001b[0m\n",
            "\u001b[2m│\u001b[0m \u001b[1;36m-\u001b[0m\u001b[1;36m-batch\u001b[0m           \u001b[1;33mINTEGER\u001b[0m  \u001b[2m[default: 20]\u001b[0m                                     \u001b[2m│\u001b[0m\n",
            "\u001b[2m│\u001b[0m \u001b[1;36m-\u001b[0m\u001b[1;36m-limit\u001b[0m           \u001b[1;33mINTEGER\u001b[0m  \u001b[2m[default: 100]\u001b[0m                                    \u001b[2m│\u001b[0m\n",
            "\u001b[2m│\u001b[0m \u001b[1;36m-\u001b[0m\u001b[1;36m-help\u001b[0m            \u001b[1;33m       \u001b[0m  Show this message and exit.                       \u001b[2m│\u001b[0m\n",
            "\u001b[2m╰──────────────────────────────────────────────────────────────────────────────╯\u001b[0m\n",
            "\n"
          ]
        }
      ]
    },
    {
      "cell_type": "code",
      "source": [
        "!python ai_main.py --template keywords_v2 --batch 3 --limit 2"
      ],
      "metadata": {
        "colab": {
          "base_uri": "https://localhost:8080/"
        },
        "id": "RSjufQAq5abJ",
        "outputId": "37c3de4e-abff-423b-ded8-e60f972f532b"
      },
      "execution_count": 9,
      "outputs": [
        {
          "output_type": "stream",
          "name": "stdout",
          "text": [
            "INFO:AI:Parsing batch 1\n",
            "INFO:AI:Reached message limit of 2.\n"
          ]
        }
      ]
    },
    {
      "cell_type": "code",
      "source": [
        "with sqlite3.connect(os.getenv(\"SQLITE_URI\")[10:]) as conn:\n",
        "    data = pd.read_sql_query(\"select * from messages where ai_message is not null\", conn)\n",
        "print(\"Number of records: {}\".format(len(data)))\n",
        "# data"
      ],
      "metadata": {
        "colab": {
          "base_uri": "https://localhost:8080/"
        },
        "id": "k3ShkZcP5tqv",
        "outputId": "fdecc8b0-6bff-42c0-a320-4036236ed69f"
      },
      "execution_count": 11,
      "outputs": [
        {
          "output_type": "stream",
          "name": "stdout",
          "text": [
            "Number of records: 4\n"
          ]
        }
      ]
    },
    {
      "cell_type": "code",
      "source": [
        "idx = 21\n",
        "\n",
        "# print(\"Sender: \", data.iloc[idx].phone)\n",
        "# print(\"\\n\\nMessage: \", data.iloc[idx].message)\n",
        "# print(\"\\n\\nParsed: \", data.iloc[idx].ai_message)"
      ],
      "metadata": {
        "id": "S5ur5LvTnUj7"
      },
      "execution_count": 12,
      "outputs": []
    }
  ]
}
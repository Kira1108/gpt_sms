{
  "nbformat": 4,
  "nbformat_minor": 0,
  "metadata": {
    "colab": {
      "provenance": [],
      "mount_file_id": "11dH8Ryr4yThrJOPCJQKYN5r8zElEwAoW",
      "authorship_tag": "ABX9TyO1VZ41FIUPCLeqCwuIqvaN",
      "include_colab_link": true
    },
    "kernelspec": {
      "name": "python3",
      "display_name": "Python 3"
    },
    "language_info": {
      "name": "python"
    }
  },
  "cells": [
    {
      "cell_type": "markdown",
      "metadata": {
        "id": "view-in-github",
        "colab_type": "text"
      },
      "source": [
        "<a href=\"https://colab.research.google.com/github/Kira1108/gpt_sms/blob/main/messagegpt.ipynb\" target=\"_parent\"><img src=\"https://colab.research.google.com/assets/colab-badge.svg\" alt=\"Open In Colab\"/></a>"
      ]
    },
    {
      "cell_type": "markdown",
      "source": [
        "## 配置相关信息"
      ],
      "metadata": {
        "id": "NP1QPS-f6P_V"
      }
    },
    {
      "cell_type": "code",
      "source": [
        "import os\n",
        "os.environ['OPENAI_API_KEY'] = \n",
        "os.environ['SQLITE_URI'] = \"sqlite:////content/drive/MyDrive/AI/MessageGPT/message_ai.db\""
      ],
      "metadata": {
        "id": "PjHQn6F7yIEE"
      },
      "execution_count": 3,
      "outputs": []
    },
    {
      "cell_type": "code",
      "execution_count": 4,
      "metadata": {
        "id": "1YTGBZZp2E1V"
      },
      "outputs": [],
      "source": [
        "!git clone https://github.com/Kira1108/gpt_sms.git\n",
        "!cp -r gpt_sms/* .\n",
        "!mkdir -p raw_data\n",
        "!cp /content/drive/MyDrive/AI/MessageGPT/data/cute_messages.fth raw_data\n",
        "\n",
        "from IPython.display import clear_output\n",
        "!pip install -r requirements.txt\n",
        "clear_output()"
      ]
    },
    {
      "cell_type": "markdown",
      "source": [
        "## 准备数据"
      ],
      "metadata": {
        "id": "CUTXeSJa6W8t"
      }
    },
    {
      "cell_type": "code",
      "source": [
        "!python data_main.py --help"
      ],
      "metadata": {
        "colab": {
          "base_uri": "https://localhost:8080/"
        },
        "id": "_rxZmk2V4RIz",
        "outputId": "7617d350-76a6-45b3-a876-9bea3d7a16e5"
      },
      "execution_count": 5,
      "outputs": [
        {
          "output_type": "stream",
          "name": "stdout",
          "text": [
            "\u001b[1m                                                                                \u001b[0m\n",
            "\u001b[1m \u001b[0m\u001b[1;33mUsage: \u001b[0m\u001b[1mdata_main.py [OPTIONS] PATH\u001b[0m\u001b[1m                                            \u001b[0m\u001b[1m \u001b[0m\n",
            "\u001b[1m                                                                                \u001b[0m\n",
            " Read raw datafile into sqlite database, either csv or feather. fmt: file       \n",
            " format, csv or feather path: path to the file                                  \n",
            "                                                                                \n",
            "\u001b[2m╭─\u001b[0m\u001b[2m Arguments \u001b[0m\u001b[2m─────────────────────────────────────────────────────────────────\u001b[0m\u001b[2m─╮\u001b[0m\n",
            "\u001b[2m│\u001b[0m \u001b[31m*\u001b[0m    path      \u001b[1;33mTEXT\u001b[0m  \u001b[2m[default: None]\u001b[0m \u001b[2;31m[required]\u001b[0m                              \u001b[2m│\u001b[0m\n",
            "\u001b[2m╰──────────────────────────────────────────────────────────────────────────────╯\u001b[0m\n",
            "\u001b[2m╭─\u001b[0m\u001b[2m Options \u001b[0m\u001b[2m───────────────────────────────────────────────────────────────────\u001b[0m\u001b[2m─╮\u001b[0m\n",
            "\u001b[2m│\u001b[0m \u001b[1;36m-\u001b[0m\u001b[1;36m-fmt\u001b[0m                        \u001b[1;33mTEXT\u001b[0m  \u001b[2m[default: csv]\u001b[0m                            \u001b[2m│\u001b[0m\n",
            "\u001b[2m│\u001b[0m \u001b[1;36m-\u001b[0m\u001b[1;36m-replace\u001b[0m    \u001b[1;35m-\u001b[0m\u001b[1;35m-no\u001b[0m\u001b[1;35m-replace\u001b[0m    \u001b[1;33m    \u001b[0m  \u001b[2m[default: no-replace]\u001b[0m                     \u001b[2m│\u001b[0m\n",
            "\u001b[2m│\u001b[0m \u001b[1;36m-\u001b[0m\u001b[1;36m-help\u001b[0m                       \u001b[1;33m    \u001b[0m  Show this message and exit.               \u001b[2m│\u001b[0m\n",
            "\u001b[2m╰──────────────────────────────────────────────────────────────────────────────╯\u001b[0m\n",
            "\n"
          ]
        }
      ]
    },
    {
      "cell_type": "code",
      "source": [
        "!python data_main.py --fmt feather --replace raw_data/cute_messages.fth"
      ],
      "metadata": {
        "colab": {
          "base_uri": "https://localhost:8080/"
        },
        "id": "I5zclb8I3bwp",
        "outputId": "785763f0-97b1-4223-f4ff-d04dccb51c1a"
      },
      "execution_count": 6,
      "outputs": [
        {
          "output_type": "stream",
          "name": "stdout",
          "text": [
            "INFO:Data:Reading feather file raw_data/cute_messages.fth.\n",
            "INFO:Data:Writing to database.\n",
            "Are you sure you want to replace the database? (y/n)y\n",
            "INFO:Data:Replacing database.\n",
            "INFO:Data:Done~~!\n"
          ]
        }
      ]
    },
    {
      "cell_type": "code",
      "source": [
        "import sqlite3\n",
        "import pandas as pd\n",
        "\n",
        "with sqlite3.connect(os.getenv(\"SQLITE_URI\")[10:]) as conn:\n",
        "    df = pd.read_sql_query(\"select * from messages\", conn)\n",
        "print(f\"Number of Records{df.shape[0]}\")\n",
        "# df.head(5)"
      ],
      "metadata": {
        "colab": {
          "base_uri": "https://localhost:8080/"
        },
        "id": "B8tU9_ipzHxl",
        "outputId": "f6be29c4-362c-4a59-fe7d-ad1f6ed04547"
      },
      "execution_count": 11,
      "outputs": [
        {
          "output_type": "stream",
          "name": "stdout",
          "text": [
            "Number of Records10\n"
          ]
        }
      ]
    },
    {
      "cell_type": "markdown",
      "source": [
        "## 解析数据"
      ],
      "metadata": {
        "id": "dXQ2XLD56az0"
      }
    },
    {
      "cell_type": "code",
      "source": [
        "!python ai_main.py --template keywords --batch 3"
      ],
      "metadata": {
        "colab": {
          "base_uri": "https://localhost:8080/"
        },
        "id": "RSjufQAq5abJ",
        "outputId": "ad0a9e4e-438f-4e7e-c48a-92eff807cdd9"
      },
      "execution_count": 10,
      "outputs": [
        {
          "output_type": "stream",
          "name": "stdout",
          "text": [
            "INFO:AI:No unparsed messages.\n"
          ]
        }
      ]
    },
    {
      "cell_type": "code",
      "source": [
        "with sqlite3.connect(os.getenv(\"SQLITE_URI\")[10:]) as conn:\n",
        "    data = pd.read_sql_query(\"select * from messages\", conn)\n",
        "print(\"Number of records: {}\".format(len(data)))\n",
        "# data"
      ],
      "metadata": {
        "colab": {
          "base_uri": "https://localhost:8080/"
        },
        "id": "k3ShkZcP5tqv",
        "outputId": "97cee6bb-03cc-4fa2-c5eb-591ff2f9dafe"
      },
      "execution_count": 12,
      "outputs": [
        {
          "output_type": "stream",
          "name": "stdout",
          "text": [
            "Number of records: 10\n"
          ]
        }
      ]
    },
    {
      "cell_type": "code",
      "source": [],
      "metadata": {
        "id": "nvsjHo867L8j"
      },
      "execution_count": null,
      "outputs": []
    }
  ]
}
{
  "nbformat": 4,
  "nbformat_minor": 0,
  "metadata": {
    "colab": {
      "provenance": [],
      "mount_file_id": "12LHDrH1d8So-1usmv6hE_EUVMQawB_Za",
      "authorship_tag": "ABX9TyMbLwIOLLS3z8ZhpmBzueHG",
      "include_colab_link": true
    },
    "kernelspec": {
      "name": "python3",
      "display_name": "Python 3"
    },
    "language_info": {
      "name": "python"
    }
  },
  "cells": [
    {
      "cell_type": "markdown",
      "metadata": {
        "id": "view-in-github",
        "colab_type": "text"
      },
      "source": [
        "<a href=\"https://colab.research.google.com/github/Kira1108/gpt_sms/blob/main/prompt_iteration.ipynb\" target=\"_parent\"><img src=\"https://colab.research.google.com/assets/colab-badge.svg\" alt=\"Open In Colab\"/></a>"
      ]
    },
    {
      "cell_type": "code",
      "source": [
        "from IPython.display import clear_output\n",
        "!pip install langchain openai tiktoken\n",
        "clear_output()"
      ],
      "metadata": {
        "id": "KX8cJHtWymGa"
      },
      "execution_count": 3,
      "outputs": []
    },
    {
      "cell_type": "code",
      "execution_count": 30,
      "metadata": {
        "id": "aUWE212mx-Bf"
      },
      "outputs": [],
      "source": [
        "import os\n",
        "import openai\n",
        "import json\n",
        "from pprint import pprint\n",
        "os.environ['OPENAI_API_KEY'] = \n",
        "openai.api_key = os.getenv(\"OPENAI_API_KEY\")"
      ]
    },
    {
      "cell_type": "code",
      "source": [
        "import pandas as pd\n",
        "\n",
        "data = pd.read_feather(\"/content/drive/MyDrive/AI/MessageGPT/data/ng_phone_msg_concat.fth\")"
      ],
      "metadata": {
        "id": "zAHfRSBJ0Doc"
      },
      "execution_count": 13,
      "outputs": []
    },
    {
      "cell_type": "code",
      "source": [
        "from langchain.prompts import PromptTemplate\n",
        "\n",
        "KEYWORDS_V2_TEMPLATE = \"\"\"\n",
        "I want you to act as a SMS service analyst, you classify message senders into categories and extract named entities from messages.\n",
        "The message is a concatenation of serveral short messages sent by the same sender.\n",
        "Your first task is to perform a multi-label classification.(primary_category and secondary_category)\n",
        "The primary_category focus on the functionality of the message, and the secondary_category focus on the content type(industry, business type, app type) of the message.\n",
        "\n",
        "The Primary category can be A LIST chosen from following(multiple choices):\n",
        "[Advertisement, Notification, Verification, Subscription, Transaction, Reminder, Alert, Survey, Support, Invitation, Personal, Spam]\n",
        "\n",
        "The Secondary category can be ONE OF the following classes:\n",
        "[Entertainment, Banking and Finance, Retail, Telecom, Travel and Hospitality, Government and Public Services, Healthcare, Education, Social Networking, Utilities, News and Media, Non-Profit, Technology, Automotive, Food and Dining, Sports, Fashion and Beauty, Real Estate, Legal and Insurance, Job and Recruitment, Loan Service]\n",
        "\n",
        "Your second task is to extract sender name from the message, such as a company name, a name of a mobile app, a product of a bank, loan product etc. \n",
        "\n",
        "Your third task it to extract keywords, a list contains at most 5 keywords that are helpful to determined the categories mentioned above.\n",
        "\n",
        "You should format your answer in JSON FORMAT with keys being primary_category[list], secondary_category[string], sender[string] and keywords[list]\n",
        "The message to analyze is delimited with triple backticks\n",
        "\n",
        "message = ```{message}```\n",
        "\"\"\"\n",
        "\n",
        "KEYWORDS_V2_PROMPT = PromptTemplate(input_variables=[\"message\"], template=KEYWORDS_V2_TEMPLATE)\n",
        "\n",
        "def get_completion(prompt, model=\"gpt-3.5-turbo\"):\n",
        "    messages = [{\"role\": \"user\", \"content\": prompt}]\n",
        "    \n",
        "    response = openai.ChatCompletion.create(\n",
        "        model=model,\n",
        "        messages=messages,\n",
        "        temperature=0,\n",
        "    )\n",
        "    return response.choices[0]['message']['content']\n",
        "\n",
        "def parse_message(message):\n",
        "    return get_completion(KEYWORDS_V2_PROMPT.format(message = message))"
      ],
      "metadata": {
        "id": "hPypH9HuzERE"
      },
      "execution_count": 24,
      "outputs": []
    },
    {
      "cell_type": "code",
      "source": [
        "example = data.sample(1).iloc[0]\n",
        "\n",
        "message = f\"Send From: {example.phone}.\\nMessage:{example.message}\"\n",
        "\n",
        "result = json.loads(parse_message(message))\n",
        "\n",
        "print(\"Message: \")\n",
        "print(message)\n",
        "\n",
        "print(\"\\n\\nResult: \")\n",
        "pprint(result)"
      ],
      "metadata": {
        "id": "ro8Ne7d4yMc5"
      },
      "execution_count": 33,
      "outputs": []
    }
  ]
}